{
  "cells": [
    {
      "cell_type": "markdown",
      "metadata": {
        "id": "8Da8leXq06Uk"
      },
      "source": [
        "##### The cell below is for you to keep track of the libraries used and install those libraries quickly\n",
        "##### Ensure that the proper library names are used and the syntax of `%pip install PACKAGE_NAME` is followed"
      ]
    },
    {
      "cell_type": "code",
      "execution_count": null,
      "metadata": {
        "id": "s0F0lpj31Nd7",
        "colab": {
          "base_uri": "https://localhost:8080/"
        },
        "outputId": "7f5132a3-f51e-4743-de49-87b330b1492b"
      },
      "outputs": [
        {
          "output_type": "stream",
          "name": "stdout",
          "text": [
            "Drive already mounted at /content/drive; to attempt to forcibly remount, call drive.mount(\"/content/drive\", force_remount=True).\n"
          ]
        }
      ],
      "source": [
        "from google.colab import drive\n",
        "drive.mount('/content/drive')"
      ]
    },
    {
      "cell_type": "code",
      "execution_count": null,
      "metadata": {
        "id": "bf5FRSU206Un"
      },
      "outputs": [],
      "source": [
        "#%pip install pandas\n",
        "#%pip install matplotlib\n",
        "#%pip install scikit-learn\n",
        "#%pip install seaborn\n",
        "#%pip install numpy\n",
        "#%pip install imbalanced-learn\n",
        "#%pip install xgboost\n",
        "# add commented pip installation lines for packages used as shown above for ease of testing\n",
        "# the line should be of the format %pip install PACKAGE_NAME"
      ]
    },
    {
      "cell_type": "code",
      "execution_count": null,
      "metadata": {
        "id": "Mnh2M8foJh9V"
      },
      "outputs": [],
      "source": [
        "# All libraries used\n",
        "import numpy as np\n",
        "import pandas as pd\n",
        "import seaborn as sb\n",
        "import matplotlib.pyplot as plt\n",
        "from sklearn.impute import KNNImputer\n",
        "from sklearn.model_selection import KFold, train_test_split, cross_val_score\n",
        "from sklearn.linear_model import LogisticRegression\n",
        "from sklearn.metrics import accuracy_score, precision_score, recall_score, f1_score, roc_auc_score\n",
        "from sklearn.neighbors import KNeighborsClassifier\n",
        "from collections import Counter\n",
        "from imblearn.over_sampling import SMOTE\n",
        "from sklearn.tree import DecisionTreeClassifier\n",
        "from sklearn.feature_selection import f_classif, SelectKBest\n",
        "from sklearn.metrics import confusion_matrix, classification_report, ConfusionMatrixDisplay\n",
        "import xgboost as xgb"
      ]
    },
    {
      "cell_type": "markdown",
      "metadata": {
        "id": "e_1BK70606Uo"
      },
      "source": [
        "## **DO NOT CHANGE** the filepath variable\n",
        "##### Instead, create a folder named 'data' in your current working directory and\n",
        "##### have the .parquet file inside that. A relative path *must* be used when loading data into pandas"
      ]
    },
    {
      "cell_type": "markdown",
      "source": [
        "# Abstract\n",
        "###### In this project, our aim is to predict customer propensity to purchase insurance at Singlife, with the aim of refining marketing strategies. The following illustrates our project's outline.\n",
        "\n",
        "\n",
        "*   Preparing the data\n",
        "*   Data visualization\n",
        "*   Training the data\n",
        "*   Modelling of data\n",
        "*   Conclusion"
      ],
      "metadata": {
        "id": "SkMtuHwfOi1r"
      }
    },
    {
      "cell_type": "markdown",
      "source": [
        "# **PREPARING THE DATA**#"
      ],
      "metadata": {
        "id": "an3qHoL2PlnN"
      }
    },
    {
      "cell_type": "code",
      "execution_count": null,
      "metadata": {
        "id": "VMtyRtLb06Up"
      },
      "outputs": [],
      "source": [
        "# Can have as many cells as you want for code\n",
        "import pandas as pd\n",
        "filepath = './data/catB_train.parquet'\n",
        "#filepath = '/content/drive/MyDrive/data/catB_train.parquet'\n",
        "# the initialised filepath MUST be a relative path to a folder named data that contains the parquet file"
      ]
    },
    {
      "cell_type": "code",
      "execution_count": null,
      "metadata": {
        "colab": {
          "base_uri": "https://localhost:8080/"
        },
        "id": "xdkwxSUz06Up",
        "outputId": "4ba64612-caaa-499a-a4b1-6bbd1d3e6729"
      },
      "outputs": [
        {
          "output_type": "execute_result",
          "data": {
            "text/plain": [
              "<bound method NDFrame.head of           clntnum race_desc ctrycode_desc clttype stat_flag min_occ_date  \\\n",
              "19550  91b546e924   Chinese     Singapore       P    ACTIVE   2017-10-31   \n",
              "4600   896bae548c   Chinese     Singapore       P    ACTIVE   2007-05-23   \n",
              "13337  f364439ae6    Others     Singapore       P    ACTIVE   2019-08-31   \n",
              "15074  70f319cfe1   Chinese     Singapore       P    ACTIVE   2021-10-18   \n",
              "19724  2647a81328   Chinese     Singapore       P    ACTIVE   2018-07-20   \n",
              "...           ...       ...           ...     ...       ...          ...   \n",
              "11284  3363260248      None     Singapore       P    LAPSED   2016-08-01   \n",
              "11964  c3509f0aef   Chinese     Singapore       P    ACTIVE   1990-03-20   \n",
              "5390   6e44cfb3e7   Chinese     Singapore       P    ACTIVE   2007-12-31   \n",
              "860    dd4e362f9f    Others     Singapore       P    ACTIVE   2007-09-01   \n",
              "15795  3788d06ec7    Indian     Singapore       P    ACTIVE   2011-10-24   \n",
              "\n",
              "       cltdob_fix cltsex_fix  flg_substandard  flg_is_borderline_standard  \\\n",
              "19550  1974-05-09     Female              0.0                         0.0   \n",
              "4600   1979-11-11       Male              0.0                         0.0   \n",
              "13337  1976-01-28       Male              0.0                         0.0   \n",
              "15074  1976-03-19     Female              0.0                         0.0   \n",
              "19724  1995-07-31     Female              0.0                         0.0   \n",
              "...           ...        ...              ...                         ...   \n",
              "11284  1994-05-24       Male              0.0                         0.0   \n",
              "11964  1948-12-16       Male              0.0                         0.0   \n",
              "5390   1967-12-06     Female              0.0                         0.0   \n",
              "860    1986-04-01       Male              0.0                         0.0   \n",
              "15795  1970-05-15       Male              0.0                         0.0   \n",
              "\n",
              "       ...  recency_giclaim  giclaim_cnt_success  recency_giclaim_success  \\\n",
              "19550  ...              NaN                 None                     None   \n",
              "4600   ...              NaN                 None                     None   \n",
              "13337  ...              NaN                 None                     None   \n",
              "15074  ...              NaN                 None                     None   \n",
              "19724  ...              NaN                 None                     None   \n",
              "...    ...              ...                  ...                      ...   \n",
              "11284  ...              NaN                 None                     None   \n",
              "11964  ...              NaN                 None                     None   \n",
              "5390   ...              NaN                 None                     None   \n",
              "860    ...              NaN                 None                     None   \n",
              "15795  ...              NaN                 None                     None   \n",
              "\n",
              "       giclaim_cnt_unsuccess  recency_giclaim_unsuccess  \\\n",
              "19550                   None                       None   \n",
              "4600                    None                       None   \n",
              "13337                   None                       None   \n",
              "15074                   None                       None   \n",
              "19724                   None                       None   \n",
              "...                      ...                        ...   \n",
              "11284                   None                       None   \n",
              "11964                   None                       None   \n",
              "5390                    None                       None   \n",
              "860                     None                       None   \n",
              "15795                   None                       None   \n",
              "\n",
              "       flg_gi_claim_29d435_ever  flg_gi_claim_058815_ever  \\\n",
              "19550                      None                      None   \n",
              "4600                       None                      None   \n",
              "13337                      None                      None   \n",
              "15074                      None                      None   \n",
              "19724                      None                      None   \n",
              "...                         ...                       ...   \n",
              "11284                      None                      None   \n",
              "11964                      None                      None   \n",
              "5390                       None                      None   \n",
              "860                        None                      None   \n",
              "15795                      None                      None   \n",
              "\n",
              "       flg_gi_claim_42e115_ever  flg_gi_claim_856320_ever  f_purchase_lh  \n",
              "19550                      None                      None            NaN  \n",
              "4600                       None                      None            NaN  \n",
              "13337                      None                      None            NaN  \n",
              "15074                      None                      None            NaN  \n",
              "19724                      None                      None            NaN  \n",
              "...                         ...                       ...            ...  \n",
              "11284                      None                      None            NaN  \n",
              "11964                      None                      None            NaN  \n",
              "5390                       None                      None            NaN  \n",
              "860                        None                      None            NaN  \n",
              "15795                      None                      None            NaN  \n",
              "\n",
              "[17992 rows x 304 columns]>"
            ]
          },
          "metadata": {},
          "execution_count": 113
        }
      ],
      "source": [
        "df=pd.read_parquet(filepath)\n",
        "df.head"
      ]
    },
    {
      "cell_type": "code",
      "execution_count": null,
      "metadata": {
        "id": "QH2M5pid06Uq"
      },
      "outputs": [],
      "source": [
        "numRows, numCols = df.shape\n",
        "print(numRows)\n",
        "print(numCols)"
      ]
    },
    {
      "cell_type": "markdown",
      "metadata": {
        "id": "cCcbtxAQKaug"
      },
      "source": [
        "Exploratory Data Analysis (EDA) - To gain better idea of the distribution of the data"
      ]
    },
    {
      "cell_type": "markdown",
      "source": [
        "###### After analysing, it is observed that there are 17992 rows of data and 304 variables (1 target variable and 303 features). We also attempted to gain better idea of some categories as indicated below. Afterwards, we also noticed that there are some missing values as indicated as NaN which suggests cleaning of data is required."
      ],
      "metadata": {
        "id": "p-xB7mFIq6-c"
      }
    },
    {
      "cell_type": "code",
      "execution_count": null,
      "metadata": {
        "id": "dFJ_k6ivJvbI"
      },
      "outputs": [],
      "source": [
        "# General Client Information\n",
        "\n",
        "# race_desc: Race\n",
        "df['race_desc'].value_counts().sort_index().plot(kind='bar')\n",
        "plt.xlabel('race_desc')\n",
        "plt.ylabel('Count')\n",
        "plt.title('Distribution of Race')\n",
        "plt.show()\n",
        "\n",
        "# ctrycode_desc: Location of Clients\n",
        "df['ctrycode_desc'].value_counts().sort_index().plot(kind='bar')\n",
        "plt.xlabel('ctrycode_desc')\n",
        "plt.ylabel('Count')\n",
        "plt.title('Distribution of Country code ')\n",
        "plt.show()\n",
        "\n",
        "# clttype: Customer status\n",
        "df['clttype'].value_counts().sort_index().plot(kind='bar')\n",
        "plt.xlabel('clttype')\n",
        "plt.ylabel('Count')\n",
        "plt.title('Distribution of Customer Status ')\n",
        "plt.show()\n",
        "\n",
        "# stat_flag: Flag indicating active/matured/lapsed\n",
        "df['stat_flag'].value_counts().sort_index().plot(kind='bar')\n",
        "plt.xlabel('stat_flag')\n",
        "plt.ylabel('Count')\n",
        "plt.title('Distribution of policy status flag')\n",
        "plt.show()\n",
        "\n",
        "# min_occ_date: Date of client first interaction with company - To obtain years joined\n",
        "plt.figure(figsize=(8, 6))\n",
        "df['min_occ_date'] = pd.to_datetime(df['min_occ_date'], errors='coerce')\n",
        "df['no._years_joined'] = 2024 - df['min_occ_date'].dt.year  # Created no._years_joined\n",
        "sb.histplot(df['no._years_joined'], kde=True, bins=10)\n",
        "plt.title(\"Histogram of number of years joined\")\n",
        "plt.show()\n",
        "\n",
        "df = df.drop(columns = \"min_occ_date\") # Drop because created no._years_joined\n",
        "\n",
        "#cltdob_fix: Date of birth - To obtain Age\n",
        "plt.figure(figsize=(8, 6))\n",
        "currentYear = 2024\n",
        "df['cltage']= currentYear - pd.to_datetime(df['cltdob_fix'], errors='coerce').dt.year\n",
        "sb.histplot(df['cltage'], kde=True, bins=10, color='pink')\n",
        "plt.title(\"Distribution of Age\")\n",
        "plt.show()\n",
        "\n",
        "df = df.drop(columns = \"cltdob_fix\") # Drop because created cltage\n",
        "\n",
        "# cltsex_fix: Gender\n",
        "df['cltsex_fix'].value_counts().sort_index().plot(kind='bar')\n",
        "plt.xlabel('cltsex_fix')\n",
        "plt.ylabel('Count')\n",
        "plt.title('Distribution of Gender')\n",
        "plt.show()\n",
        "\n"
      ]
    },
    {
      "cell_type": "code",
      "execution_count": null,
      "metadata": {
        "id": "pWDz-13ERYso",
        "colab": {
          "base_uri": "https://localhost:8080/",
          "height": 467
        },
        "outputId": "d56f6376-2618-46ba-b9ad-ab2314b81a36"
      },
      "outputs": [
        {
          "output_type": "execute_result",
          "data": {
            "text/plain": [
              "<Axes: xlabel='f_purchase_lh', ylabel='count'>"
            ]
          },
          "metadata": {},
          "execution_count": 114
        },
        {
          "output_type": "display_data",
          "data": {
            "text/plain": [
              "<Figure size 640x480 with 1 Axes>"
            ],
            "image/png": "[encoded data removed]"
          },
          "metadata": {}
        }
      ],
      "source": [
        "# Analyse relationship between gender and f_purchase_lh (target)\n",
        "# Convert f_purchase_lh from float to categorical\n",
        "df['f_purchase_lh'] = df['f_purchase_lh'].replace({np.nan: 0, 1.0: 1}).astype('int').astype('category')\n",
        "sb.countplot(data=df, x='f_purchase_lh', hue='cltsex_fix')"
      ]
    },
    {
      "cell_type": "code",
      "execution_count": null,
      "metadata": {
        "id": "tUIplj4K1JZR"
      },
      "outputs": [],
      "source": [
        "df.head(3)"
      ]
    },
    {
      "cell_type": "markdown",
      "metadata": {
        "id": "Ij_0wCBDmIRy"
      },
      "source": [
        "Not sure if the following code block still needed?"
      ]
    },
    {
      "cell_type": "code",
      "execution_count": null,
      "metadata": {
        "id": "4U6w1W5LIbDo"
      },
      "outputs": [],
      "source": [
        "# flg_is_borderline_standard: Flag for Borderline Standard Risk\n",
        "df['flg_is_borderline_standard'].value_counts().sort_index().plot(kind='bar')\n",
        "plt.xlabel('flg_is_borderline_standard')\n",
        "plt.ylabel('Count')\n",
        "plt.title('Distribution of Borderline Standard Risk Clients')\n",
        "plt.show()\n",
        "\n",
        "# flg_is_rental_flat: Indicates if the client lives in a rental flat\n",
        "df['flg_is_rental_flat'].value_counts().sort_index().plot(kind='bar')\n",
        "plt.xlabel('flg_is_rental_flat')\n",
        "plt.ylabel('Count')\n",
        "plt.title('Distribution of Clients ')\n",
        "plt.show()\n",
        "\n",
        "# flg_has_health_claim: Flag for clients with health insurance claims.\n",
        "df['flg_has_health_claim'].value_counts().sort_index().plot(kind='bar')\n",
        "plt.xlabel('flg_is_rental_flat')\n",
        "plt.ylabel('Count')\n",
        "plt.title('Distribution of Clients with health insurance claims')\n",
        "plt.show()\n",
        "\n",
        "# Client Risk and Status Indicators\n",
        "riskAndStatus_columns = df.iloc[:, 7:17]\n",
        "for col in riskAndStatus_columns.columns:\n",
        "    selected_column = df[col]\n",
        "    category_counts = selected_column.value_counts()\n",
        "    print(f\"Category Counts for {col}:\\n\", category_counts)\n",
        "\n",
        "# Client Consent and Communication Preferences\n",
        "consentAndCommunication_columns = df.iloc[:, 17:23]\n",
        "for col in consentAndCommunication_columns.columns:\n",
        "    selected_column = df[col]\n",
        "    category_counts = selected_column.value_counts()\n",
        "    print(f\"Category Counts for {col}:\\n\", category_counts)\n",
        "\n",
        "# Demographic and Household Information\n",
        "demoAndHH_columns = df.iloc[:, 23:27]\n",
        "for col in demoAndHH_columns.columns:\n",
        "    selected_column = df[col]\n",
        "    category_counts = selected_column.value_counts()\n",
        "    print(f\"Category Counts for {col}:\\n\", category_counts)"
      ]
    },
    {
      "cell_type": "markdown",
      "metadata": {
        "id": "JmO5f1lLx0AU"
      },
      "source": [
        "Check for NA values:\n",
        "(i) If feature has too many missing values, feature to be dropped\n",
        "(ii) If feature has a few missing values, rows with these missing values to be removed\n",
        "(iii) Remaining features to be imputed"
      ]
    },
    {
      "cell_type": "code",
      "execution_count": null,
      "metadata": {
        "id": "YzOJ2rhwcu3Y",
        "colab": {
          "base_uri": "https://localhost:8080/"
        },
        "outputId": "45bff509-8d03-4b5a-a97e-bf1e3f26cff8"
      },
      "outputs": [
        {
          "output_type": "stream",
          "name": "stdout",
          "text": [
            "Column 'race_desc' has 3996 missing values.\n",
            "Column 'ctrycode_desc' has 20 missing values.\n",
            "Column 'cltsex_fix' has 23 missing values.\n",
            "Column 'flg_substandard' has 1014 missing values.\n",
            "Column 'flg_is_borderline_standard' has 1014 missing values.\n",
            "Column 'flg_is_revised_term' has 1014 missing values.\n",
            "Column 'flg_is_rental_flat' has 1014 missing values.\n",
            "Column 'flg_has_health_claim' has 1014 missing values.\n",
            "Column 'flg_has_life_claim' has 1014 missing values.\n",
            "Column 'flg_gi_claim' has 1014 missing values.\n",
            "Column 'flg_is_proposal' has 1014 missing values.\n",
            "Column 'flg_with_preauthorisation' has 1014 missing values.\n",
            "Column 'flg_is_returned_mail' has 1014 missing values.\n",
            "Column 'is_consent_to_mail' has 1014 missing values.\n",
            "Column 'is_consent_to_email' has 1014 missing values.\n",
            "Column 'is_consent_to_call' has 1014 missing values.\n",
            "Column 'is_consent_to_sms' has 1014 missing values.\n",
            "Column 'is_valid_dm' has 1014 missing values.\n",
            "Column 'is_valid_email' has 1014 missing values.\n",
            "Column 'is_housewife_retiree' has 1014 missing values.\n",
            "Column 'is_sg_pr' has 1014 missing values.\n",
            "Column 'is_class_1_2' has 1014 missing values.\n",
            "Column 'is_dependent_in_at_least_1_policy' has 1014 missing values.\n",
            "Column 'f_ever_declined_la' has 16759 missing values.\n",
            "Column 'hh_20' has 2809 missing values.\n",
            "Column 'pop_20' has 2809 missing values.\n",
            "Column 'hh_size' has 2809 missing values.\n",
            "Column 'hh_size_est' has 2809 missing values.\n",
            "Column 'annual_income_est' has 2809 missing values.\n",
            "Column 'recency_lapse' has 12592 missing values.\n",
            "Column 'recency_cancel' has 17368 missing values.\n",
            "Column 'tot_cancel_pols' has 17368 missing values.\n",
            "Column 'lapse_ape_ltc_1280bf' has 12592 missing values.\n",
            "Column 'lapse_ape_grp_6fc3e6' has 12592 missing values.\n",
            "Column 'lapse_ape_grp_de05ae' has 12592 missing values.\n",
            "Column 'lapse_ape_inv_dcd836' has 12592 missing values.\n",
            "Column 'lapse_ape_grp_945b5a' has 12592 missing values.\n",
            "Column 'lapse_ape_grp_6a5788' has 12592 missing values.\n",
            "Column 'lapse_ape_ltc_43b9d5' has 12592 missing values.\n",
            "Column 'lapse_ape_grp_9cdedf' has 12592 missing values.\n",
            "Column 'lapse_ape_lh_d0adeb' has 12592 missing values.\n",
            "Column 'lapse_ape_grp_1581d7' has 12592 missing values.\n",
            "Column 'lapse_ape_grp_22decf' has 12592 missing values.\n",
            "Column 'lapse_ape_lh_507c37' has 12592 missing values.\n",
            "Column 'lapse_ape_lh_839f8a' has 12592 missing values.\n",
            "Column 'lapse_ape_inv_e9f316' has 12592 missing values.\n",
            "Column 'lapse_ape_grp_caa6ff' has 12592 missing values.\n",
            "Column 'lapse_ape_grp_fd3bfb' has 12592 missing values.\n",
            "Column 'lapse_ape_lh_e22a6a' has 12592 missing values.\n",
            "Column 'lapse_ape_grp_70e1dd' has 12592 missing values.\n",
            "Column 'lapse_ape_grp_e04c3a' has 12592 missing values.\n",
            "Column 'lapse_ape_grp_fe5fb8' has 12592 missing values.\n",
            "Column 'lapse_ape_grp_94baec' has 12592 missing values.\n",
            "Column 'lapse_ape_grp_e91421' has 12592 missing values.\n",
            "Column 'lapse_ape_lh_f852af' has 12592 missing values.\n",
            "Column 'lapse_ape_lh_947b15' has 12592 missing values.\n",
            "Column 'lapse_ape_32c74c' has 12592 missing values.\n",
            "Column 'n_months_since_lapse_ltc_1280bf' has 12592 missing values.\n",
            "Column 'n_months_since_lapse_grp_6fc3e6' has 12592 missing values.\n",
            "Column 'n_months_since_lapse_grp_de05ae' has 12592 missing values.\n",
            "Column 'n_months_since_lapse_inv_dcd836' has 12592 missing values.\n",
            "Column 'n_months_since_lapse_grp_945b5a' has 12592 missing values.\n",
            "Column 'n_months_since_lapse_grp_6a5788' has 12592 missing values.\n",
            "Column 'n_months_since_lapse_ltc_43b9d5' has 12592 missing values.\n",
            "Column 'n_months_since_lapse_grp_9cdedf' has 12592 missing values.\n",
            "Column 'n_months_since_lapse_lh_d0adeb' has 12592 missing values.\n",
            "Column 'n_months_since_lapse_grp_1581d7' has 12592 missing values.\n",
            "Column 'n_months_since_lapse_grp_22decf' has 12592 missing values.\n",
            "Column 'n_months_since_lapse_lh_507c37' has 12592 missing values.\n",
            "Column 'n_months_since_lapse_lh_839f8a' has 12592 missing values.\n",
            "Column 'n_months_since_lapse_inv_e9f316' has 12592 missing values.\n",
            "Column 'n_months_since_lapse_grp_caa6ff' has 12592 missing values.\n",
            "Column 'n_months_since_lapse_grp_fd3bfb' has 12592 missing values.\n",
            "Column 'n_months_since_lapse_lh_e22a6a' has 12592 missing values.\n",
            "Column 'n_months_since_lapse_grp_70e1dd' has 12592 missing values.\n",
            "Column 'n_months_since_lapse_grp_e04c3a' has 12592 missing values.\n",
            "Column 'n_months_since_lapse_grp_fe5fb8' has 12592 missing values.\n",
            "Column 'n_months_since_lapse_grp_94baec' has 12592 missing values.\n",
            "Column 'n_months_since_lapse_grp_e91421' has 12592 missing values.\n",
            "Column 'n_months_since_lapse_lh_f852af' has 12592 missing values.\n",
            "Column 'n_months_since_lapse_lh_947b15' has 12592 missing values.\n",
            "Column 'n_months_since_lapse_32c74c' has 12592 missing values.\n",
            "Column 'flg_affconnect_show_interest_ever' has 17497 missing values.\n",
            "Column 'flg_affconnect_ready_to_buy_ever' has 17178 missing values.\n",
            "Column 'flg_affconnect_lapse_ever' has 17178 missing values.\n",
            "Column 'affcon_visit_days' has 17178 missing values.\n",
            "Column 'n_months_since_visit_affcon' has 17178 missing values.\n",
            "Column 'clmcon_visit_days' has 17203 missing values.\n",
            "Column 'recency_clmcon' has 17203 missing values.\n",
            "Column 'recency_clmcon_regis' has 17203 missing values.\n",
            "Column 'hlthclaim_amt' has 16543 missing values.\n",
            "Column 'recency_hlthclaim' has 16543 missing values.\n",
            "Column 'hlthclaim_cnt_success' has 16715 missing values.\n",
            "Column 'recency_hlthclaim_success' has 16715 missing values.\n",
            "Column 'hlthclaim_cnt_unsuccess' has 17382 missing values.\n",
            "Column 'recency_hlthclaim_unsuccess' has 17382 missing values.\n",
            "Column 'flg_hlthclaim_839f8a_ever' has 17707 missing values.\n",
            "Column 'recency_hlthclaim_839f8a' has 17707 missing values.\n",
            "Column 'flg_hlthclaim_14cb37_ever' has 16617 missing values.\n",
            "Column 'recency_hlthclaim_14cb37' has 16617 missing values.\n",
            "Column 'giclaim_amt' has 17544 missing values.\n",
            "Column 'recency_giclaim' has 17544 missing values.\n",
            "Column 'giclaim_cnt_success' has 17992 missing values.\n",
            "Column 'recency_giclaim_success' has 17992 missing values.\n",
            "Column 'giclaim_cnt_unsuccess' has 17992 missing values.\n",
            "Column 'recency_giclaim_unsuccess' has 17992 missing values.\n",
            "Column 'flg_gi_claim_29d435_ever' has 17992 missing values.\n",
            "Column 'flg_gi_claim_058815_ever' has 17992 missing values.\n",
            "Column 'flg_gi_claim_42e115_ever' has 17992 missing values.\n",
            "Column 'flg_gi_claim_856320_ever' has 17992 missing values.\n",
            "2 features where rows with missing values shall be removed\n",
            "83 features to be dropped\n",
            "25 features where missing values will be interpolated\n",
            "Number of rows before in df: 17992\n",
            "Number of rows after in df: 17949\n",
            "Number of features left = 221\n"
          ]
        }
      ],
      "source": [
        "# Checking for NA values\n",
        "toDrop_columns = []\n",
        "toRemove_rows = []\n",
        "toImpute_columns = []\n",
        "\n",
        "threshold1 = 50\n",
        "threshold2 = 3000\n",
        "\n",
        "missingValues = df.isna().sum()\n",
        "for variableName, count in missingValues.items():\n",
        "    if count > 0:\n",
        "        print(f\"Column '{variableName}' has {count} missing values.\")\n",
        "\n",
        "        # Features with <50 missing values will have rows removed\n",
        "        if count < threshold1:\n",
        "            toRemove_rows.append(variableName)\n",
        "\n",
        "        # Features with >3000 missing values will be dropped due to too many missing values\n",
        "        elif count > threshold2:\n",
        "            toDrop_columns.append(variableName)\n",
        "\n",
        "        # Remaining features are to be imputed\n",
        "        else:\n",
        "            toImpute_columns.append(variableName)\n",
        "\n",
        "print(str(len(toRemove_rows)) + \" features where rows with missing values shall be removed\")\n",
        "print(str(len(toDrop_columns)) + \" features to be dropped\")\n",
        "print(str(len(toImpute_columns)) + \" features where missing values will be interpolated\")\n",
        "\n",
        "print(f\"Number of rows before in df: {len(df)}\")\n",
        "\n",
        "# Drop rows with missing values\n",
        "for col in toRemove_rows:\n",
        "    if col is None:\n",
        "        print(\"Skipping None column\")\n",
        "        continue\n",
        "\n",
        "    if col not in df.columns:\n",
        "        print(f\"Column '{col}' not found in DataFrame\")\n",
        "        continue\n",
        "\n",
        "    # Remove rows with missing values in the specified column\n",
        "    df.dropna(subset=[col], inplace=True)\n",
        "\n",
        "print(f\"Number of rows after in df: {len(df)}\")\n",
        "\n",
        "# Drop columns\n",
        "df = df.drop(columns=toDrop_columns)\n",
        "\n",
        "\n",
        "print(\"Number of features left = \" + str(df.shape[1]))\n"
      ]
    },
    {
      "cell_type": "markdown",
      "metadata": {
        "id": "7jMY4sj562Ed"
      },
      "source": [
        "Handling the remaining features to be imputed\n",
        "(toImpute_columns)\n",
        "\n",
        "\n",
        "1.   Categorical variables and flag variables: Replace NA with mode\n",
        "2.   Numerical variables: KNN Imputer\n",
        "\n"
      ]
    },
    {
      "cell_type": "code",
      "execution_count": null,
      "metadata": {
        "id": "Gduq3GXE60hk"
      },
      "outputs": [],
      "source": [
        "# Conversion of flag variables to categorical values\n",
        "for col in toImpute_columns:\n",
        "\n",
        "    # Set NA values of toImpute_columns to -1\n",
        "    df[col].fillna(-1, inplace=True)\n",
        "\n",
        "    # Convert only flag variables to categorical\n",
        "    unique_values = df[col].unique()\n",
        "    if set(unique_values) == {0., -1, 1.} or set(unique_values) == {0., -1,} or set(unique_values) == {-1, 1.}:\n",
        "      df[col] = df[col].replace({0.0: 0, 1.0: 1, -1: -1}).astype('int').astype('category') #Convert to categorical values (0,1,-1) where -1 are NA\n",
        "\n",
        "\n",
        "toHandle_flags = []\n",
        "toHandle_others = []\n",
        "for col in toImpute_columns:\n",
        "    if df[col].dtypes == \"category\":\n",
        "        toHandle_flags.append(col)\n",
        "    else:\n",
        "        toHandle_others.append(col)\n",
        "\n",
        "print(toHandle_flags)  # flag features\n",
        "print(toHandle_others)  # features to impute excluding flag features\n",
        "\n",
        "\n",
        "# Replace all -1 values back to NA values\n",
        "df.replace(-1, np.nan, inplace=True)\n",
        "\n"
      ]
    },
    {
      "cell_type": "code",
      "execution_count": null,
      "metadata": {
        "id": "6etuimntEM7R"
      },
      "outputs": [],
      "source": [
        "# Check for the non-numeric values for features in toHandle_others\n",
        "for col in toHandle_others:\n",
        "    if df[col].dtype == 'O':  # Check if column has object (string) type\n",
        "        non_numeric_values = df[col].loc[~pd.to_numeric(df[col], errors='coerce').notna()].unique()\n",
        "        if len(non_numeric_values) > 0:\n",
        "            print(f\"Column '{col}' has non-numeric values: {non_numeric_values}\")\n",
        "    else:\n",
        "        coltype = df[col].dtype\n",
        "        print(f\"Column '{col}' has data type: {coltype}\")\n",
        "\n",
        "# Hence we can only interpolate features \"hh_20\", \"hh_size\" and \"pop_20\"\n",
        "# \"hh_size_est\" and \"annual_income_est\" to be converted to categorical features\n",
        "\n",
        "canInterpolate = ['hh_20', 'pop_20', 'hh_size']\n",
        "df['hh_size_est'] = df['hh_size_est'].astype('category')\n",
        "df['annual_income_est'] = df[\"annual_income_est\"].astype('category')\n",
        "\n",
        "print(df['hh_size_est'])\n",
        "print(df['annual_income_est'])\n",
        "\n",
        "\n",
        "#Interpolation of numerical features\n",
        "knn_imputer = KNNImputer(n_neighbors=5)\n",
        "df[canInterpolate] = knn_imputer.fit_transform(df[canInterpolate])\n",
        "\n",
        "\n",
        "# Replace the missing values within categorical features with the most frequent category (mode)\n",
        "df['hh_size_est'] = df['hh_size_est'].fillna(df['hh_size_est'].mode()[0])\n",
        "df['annual_income_est'] = df['annual_income_est'].fillna(df['annual_income_est'].mode()[0])\n",
        "\n",
        "for col in toHandle_flags:\n",
        "    df[col] = df[col].fillna(df[col].mode()[0])"
      ]
    },
    {
      "cell_type": "markdown",
      "metadata": {
        "id": "gh95xjkrV9ia"
      },
      "source": [
        "Data Conversion (One-hot encoding for categorical variables, except target variable)\n",
        "\n"
      ]
    },
    {
      "cell_type": "code",
      "execution_count": null,
      "metadata": {
        "id": "UjQs8Mtd-4C8",
        "colab": {
          "base_uri": "https://localhost:8080/"
        },
        "outputId": "49e413fe-3e40-4085-e047-c6f0ed2c0845"
      },
      "outputs": [
        {
          "output_type": "stream",
          "name": "stdout",
          "text": [
            "clttype\n",
            "['P' 'G' 'C']\n",
            "stat_flag\n",
            "['ACTIVE' 'LAPSED' 'MATURED']\n",
            "flg_substandard\n",
            "[ 0. nan  1.]\n",
            "flg_is_borderline_standard\n",
            "[ 0. nan  1.]\n",
            "flg_is_revised_term\n",
            "[ 0. nan  1.]\n",
            "flg_is_rental_flat\n",
            "[ 0. nan  1.]\n",
            "flg_has_health_claim\n",
            "[ 0. nan  1.]\n",
            "flg_has_life_claim\n",
            "[ 0. nan  1.]\n",
            "flg_gi_claim\n",
            "[ 0. nan  1.]\n",
            "flg_is_proposal\n",
            "[ 0. nan  1.]\n",
            "flg_with_preauthorisation\n",
            "[ 0. nan  1.]\n",
            "flg_is_returned_mail\n",
            "[ 0. nan  1.]\n",
            "is_consent_to_mail\n",
            "[ 0.  1. nan]\n",
            "is_consent_to_email\n",
            "[ 0.  1. nan]\n",
            "is_consent_to_call\n",
            "[ 0.  1. nan]\n",
            "is_consent_to_sms\n",
            "[ 0.  1. nan]\n",
            "is_valid_dm\n",
            "[ 1.  0. nan]\n",
            "is_valid_email\n",
            "[ 1.  0. nan]\n",
            "is_housewife_retiree\n",
            "[ 0. nan  1.]\n",
            "is_sg_pr\n",
            "[ 1.  0. nan]\n",
            "is_class_1_2\n",
            "[ 1.  0. nan]\n",
            "hh_size_est\n",
            "['1' '3' '4' '>4' '2' None '0']\n",
            "annual_income_est\n",
            "['C.60K-100K' 'D.30K-60K' 'A.ABOVE200K' 'B.100K-200K' 'E.BELOW30K' None]\n",
            "ape_grp_de05ae\n",
            "[Decimal('0.00') Decimal('120.00') Decimal('238.56') Decimal('360.48')\n",
            " Decimal('1274.40') Decimal('852.72') Decimal('282.24')]\n",
            "sumins_grp_de05ae\n",
            "[Decimal('0.00') Decimal('27000.00') Decimal('36228.00')\n",
            " Decimal('34762.00') Decimal('76080.00') Decimal('82236.00')\n",
            " Decimal('58800.00')]\n",
            "prempaid_grp_de05ae\n",
            "[Decimal('0.00') Decimal('6360.00') Decimal('12643.68')\n",
            " Decimal('19105.44') Decimal('67543.20') Decimal('45194.16')\n",
            " Decimal('14958.72')]\n",
            "[  1  45  47  22  62  74   9  60  67   8  28   4  82  42 155   6  -4  88\n",
            "  32  78  20  90  14  31 113  33   3  85  63  16 134 119 101  17  89  24\n",
            "  64 109 216 171  26  23  66   2  51 100  15  97  11  69 116  10  25  29\n",
            "  54  27  39 173 185  58  36  37  49  13  73 115 405  55  43  30 138   5\n",
            "  81  50 188 196  79 142  34  12 182 160 112  75 136 394 217 233  35 214\n",
            " 222  98   7 199 165 104  99  93  83 147  19  56 161  18  44  46  96 179\n",
            "  38 242 191  68 172 159  40 202 129  87  57 146  77  70 140  84 121 106\n",
            " 127  65 258 169 135 123 201 162 108 111 105 186  53  76 302 103  59 332\n",
            " 102 307  95  61 120 107 133 132 219 218 118 246 143 355 377  86  72 170\n",
            " 187  21 180  48 439 156 148 131  41  94 175  71 210 249 212 128 234 184\n",
            " 176 137 151 130 177 368 125 508 209 163 154  52 230 197 371 168 122 153\n",
            " 360 189 150 110  80 190 144 166 315 263 235 458 139   0 158 167 243 178\n",
            " 126  91 117 237 213 124 533 198 277 345 224 141 164 220 157 114 436 181\n",
            " 149 239 192 228 204 183 195 300 248 412 206  92 208 244 414 363 380 250\n",
            " 399 348 316 309 304 211 497 262 273 364  -2 174 275 376 254 297 205 429\n",
            " 418 145 392 152 424 366 223 231 528 306 236 625 385 194 284 265 255 245\n",
            " 402 282 261 395 253 221 373 367 483 256 203 251 353 207 562 346 279 522\n",
            " 247 200 474 581 358 457 467 303 638 564 336 286 447 396 492 328 601 341\n",
            " 452 329 193 493 445 486 271 227 389 566 340 620 349 543 260 289 354 257\n",
            " 266 226 383 388 475 298 225 438 259  -1 269 229 390 252  -3 485 299 319\n",
            " 785 215 274 409 350 428 290 318 372 416 847 330 465 422 283 748 238 400\n",
            " 276 419 324 342 268 382 669 285 272 592 406 408 327 331 337 356 407]\n",
            "Column 'min_occ_date' has 17949 missing values.\n",
            "Column 'cltdob_fix' has 17949 missing values.\n",
            "Column 'flg_substandard' has 1014 missing values.\n",
            "Column 'flg_is_borderline_standard' has 1014 missing values.\n",
            "Column 'flg_is_revised_term' has 1014 missing values.\n",
            "Column 'flg_is_rental_flat' has 1014 missing values.\n",
            "Column 'flg_has_health_claim' has 1014 missing values.\n",
            "Column 'flg_has_life_claim' has 1014 missing values.\n",
            "Column 'flg_gi_claim' has 1014 missing values.\n",
            "Column 'flg_is_proposal' has 1014 missing values.\n",
            "Column 'flg_with_preauthorisation' has 1014 missing values.\n",
            "Column 'flg_is_returned_mail' has 1014 missing values.\n",
            "Column 'is_consent_to_mail' has 1014 missing values.\n",
            "Column 'is_consent_to_email' has 1014 missing values.\n",
            "Column 'is_consent_to_call' has 1014 missing values.\n",
            "Column 'is_consent_to_sms' has 1014 missing values.\n",
            "Column 'is_valid_dm' has 1014 missing values.\n",
            "Column 'is_valid_email' has 1014 missing values.\n",
            "Column 'is_housewife_retiree' has 1014 missing values.\n",
            "Column 'is_sg_pr' has 1014 missing values.\n",
            "Column 'is_class_1_2' has 1014 missing values.\n",
            "Column 'is_dependent_in_at_least_1_policy' has 1014 missing values.\n",
            "Column 'hh_20' has 2789 missing values.\n",
            "Column 'pop_20' has 2789 missing values.\n",
            "Column 'hh_size' has 2789 missing values.\n",
            "Column 'hh_size_est' has 2789 missing values.\n",
            "Column 'annual_income_est' has 2789 missing values.\n",
            "Column 'n_months_last_bought_products' has 8 missing values.\n"
          ]
        },
        {
          "output_type": "execute_result",
          "data": {
            "text/plain": [
              "(0, 219)"
            ]
          },
          "metadata": {},
          "execution_count": 102
        }
      ],
      "source": [
        "# Identifying categorical and numerical variables\n",
        "categorical_variables = []\n",
        "numerical_variables = []\n",
        "for column in df.columns:\n",
        "    unique_values = df[column].unique()\n",
        "    if 2 < len(unique_values) < 10 :\n",
        "        print(column)\n",
        "        print(unique_values)\n",
        "\n",
        "    elif len(unique_values) <= 2:\n",
        "        categorical_variables.append(column)\n",
        "\n",
        "    else:\n",
        "        numerical_variables.append(column)\n",
        "\n",
        "\n",
        "categorical_variables.extend(['clttype', 'stat_flag', 'hh_size_est', 'annual_income_est'])\n",
        "numerical_variables.extend(['ape_grp_de05ae', 'sumins_grp_de05ae', 'prempaid_grp_de05ae'])\n",
        "\n",
        "# clntnum does not tell us information, hence drop column\n",
        "df = df.drop('clntnum', axis=1)\n",
        "numerical_variables.remove('clntnum')\n",
        "\n",
        "# ctrycode_desc is location, hence categorical\n",
        "categorical_variables.append('ctrycode_desc')\n",
        "numerical_variables.remove('ctrycode_desc')\n",
        "\n",
        "#n_months_last_bought_products\n",
        "print(df['n_months_last_bought_products'].unique()) # negative values, NA values (came from the '-1' being set to NA earlier)\n",
        "df.loc[df['n_months_last_bought_products'] < 0, 'n_months_last_bought_products'] = None # set negative values to NA\n",
        "\n",
        "\n",
        "# Type casting\n",
        "for col in categorical_variables:\n",
        "    df[col] = df[col].astype('category')\n",
        "\n",
        "for col in numerical_variables:\n",
        "    df[col] = pd.to_numeric(df[col], errors='coerce')\n",
        "\n",
        "\n",
        "# Final check for NA values\n",
        "missing = df.isna().sum()\n",
        "for variableName, count in missing.items():\n",
        "    if count > 0:\n",
        "        print(f\"Column '{variableName}' has {count} missing values.\")\n",
        "\n",
        "df = df.dropna() # Drop NA values in 'n_months_last_bought_products'\n",
        "df.shape\n"
      ]
    },
    {
      "cell_type": "code",
      "execution_count": null,
      "metadata": {
        "id": "oCuTfmvq6tWe"
      },
      "outputs": [],
      "source": [
        "# One-hot encoding for categorical features as labels do not have orders\n",
        "\n",
        "# Exclude target variable ('f_purchase_lh') as it does not have to be label-encoded\n",
        "categorical_variables.remove('f_purchase_lh')\n",
        "print('f_purchase_lh' in categorical_variables)\n",
        "\n",
        "\n",
        "df_encoded = pd.get_dummies(df, columns = categorical_variables)"
      ]
    },
    {
      "cell_type": "code",
      "source": [
        "# Save df_encoded for easier usage of cleaned data\n",
        "print(df_encoded.shape)\n",
        "df_encoded.to_csv(\"df_encoded\", index=False)"
      ],
      "metadata": {
        "id": "Am17bRoXBImF"
      },
      "execution_count": null,
      "outputs": []
    },
    {
      "cell_type": "markdown",
      "metadata": {
        "id": "5MTJnyNdTixL"
      },
      "source": [
        "Treat imbalanced dataset (SMOTE)"
      ]
    },
    {
      "cell_type": "code",
      "execution_count": null,
      "metadata": {
        "id": "6p94-pfEWYno",
        "colab": {
          "base_uri": "https://localhost:8080/"
        },
        "outputId": "57b81136-e195-40ca-e62c-92ed3deec270"
      },
      "outputs": [
        {
          "output_type": "stream",
          "name": "stdout",
          "text": [
            "Before: Counter({0: 13784, 1: 560})\n",
            "After: Counter({1: 13784, 0: 13784})\n"
          ]
        }
      ],
      "source": [
        "# read df_encoded\n",
        "df_encoded=pd.read_csv('df_encoded')\n",
        "\n",
        "X = df_encoded.drop('f_purchase_lh', axis=1)\n",
        "y = df_encoded['f_purchase_lh']\n",
        "\n",
        "X_train, X_val, y_train, y_val = train_test_split(X, y, test_size=0.2, random_state=0) # X_val and y_val are validation sets\n",
        "\n",
        "print('Before:', Counter(y_train))\n",
        "X_train, y_train = SMOTE(random_state=42).fit_resample(X_train, y_train)\n",
        "print('After:', Counter(y_train))"
      ]
    },
    {
      "cell_type": "markdown",
      "metadata": {
        "id": "P4_yPt4Tie5O"
      },
      "source": [
        "Feature Selection\n",
        "\n",
        "\n",
        "1.   Fisher Score\n",
        "2.   Decision Tree\n",
        "\n"
      ]
    },
    {
      "cell_type": "code",
      "execution_count": null,
      "metadata": {
        "id": "YIS81W_4dbGj",
        "colab": {
          "base_uri": "https://localhost:8080/"
        },
        "outputId": "470b053e-3a03-4e8e-f412-ef909f5e5601"
      },
      "outputs": [
        {
          "output_type": "stream",
          "name": "stdout",
          "text": [
            "                                  Feature  Fisher Score\n",
            "214                    f_ever_bought_gi_0   9813.923977\n",
            "81                n_months_last_bought_gi   5218.815833\n",
            "288          annual_income_est_E.BELOW30K   4963.103720\n",
            "136                         is_valid_dm_0   4779.667662\n",
            "138                      is_valid_email_0   4529.101099\n",
            "..                                    ...           ...\n",
            "263  n_months_last_bought_ltc_1280bf_9999           NaN\n",
            "264  n_months_last_bought_inv_dcd836_9999           NaN\n",
            "265   n_months_last_bought_lh_d0adeb_9999           NaN\n",
            "290      ctrycode_desc_Bosnia-Herzegovina           NaN\n",
            "308                  ctrycode_desc_Sweden           NaN\n",
            "\n",
            "[315 rows x 2 columns]\n",
            "315\n",
            "Important features: \n",
            "['n_months_last_bought_products', 'sumins_grp_70e1dd', 'ape_839f8a', 'sumins_507c37', 'prempaid_839f8a', 'n_months_last_bought_839f8a', 'n_months_last_bought_gi', 'n_months_last_bought_grp_1581d7', 'n_months_last_bought_grp_caa6ff', 'cltsex_fix_Male', 'flg_substandard_0', 'flg_gi_claim_0', 'flg_is_proposal_0', 'is_consent_to_mail_1', 'is_consent_to_email_0', 'is_consent_to_email_1', 'is_consent_to_call_1', 'is_consent_to_sms_1', 'is_valid_dm_0', 'is_valid_dm_1', 'is_valid_email_0', 'is_valid_email_1', 'is_sg_pr_0', 'is_class_1_2_0', 'flg_latest_being_lapse_0', 'f_hold_839f8a_0', 'f_hold_507c37_0', 'f_ever_bought_839f8a_0', 'f_ever_bought_e22a6a_0', 'f_ever_bought_507c37_0', 'f_ever_bought_gi_0', 'f_ever_bought_gi_1', 'f_ever_bought_grp_6fc3e6_0', 'f_ever_bought_grp_945b5a_0', 'f_ever_bought_ltc_43b9d5_0', 'f_ever_bought_grp_1581d7_0', 'f_ever_bought_lh_507c37_0', 'f_ever_bought_lh_839f8a_0', 'f_ever_bought_grp_caa6ff_0', 'f_ever_bought_lh_e22a6a_0', 'f_ever_bought_grp_70e1dd_0', 'f_ever_bought_grp_fe5fb8_1', 'f_ever_bought_grp_94baec_1', 'f_elx_1', 'f_mindef_mha_0', 'f_mindef_mha_1', 'f_retail_0', 'clttype_G', 'clttype_P', 'hh_size_est_2', 'hh_size_est_3', 'hh_size_est_4', 'hh_size_est_>4', 'annual_income_est_C.60K-100K', 'annual_income_est_D.30K-60K', 'annual_income_est_E.BELOW30K']\n",
            "56\n"
          ]
        },
        {
          "output_type": "stream",
          "name": "stderr",
          "text": [
            "/usr/local/lib/python3.10/dist-packages/sklearn/feature_selection/_univariate_selection.py:112: UserWarning: Features [146 151 152 153 154 155 156 157 158 159 160 161 162 163 164 165 166 167\n",
            " 168 171 172 173 174 175 176 177 178 179 180 181 182 183 184 185 190 197\n",
            " 198 199 200 201 202 207 216 217 222 231 262 263 264 265 290 308] are constant.\n",
            "  warnings.warn(\"Features %s are constant.\" % constant_features_idx, UserWarning)\n",
            "/usr/local/lib/python3.10/dist-packages/sklearn/feature_selection/_univariate_selection.py:113: RuntimeWarning: invalid value encountered in divide\n",
            "  f = msb / msw\n"
          ]
        }
      ],
      "source": [
        "# Feature selection using Fisher Score\n",
        "k_best = SelectKBest(score_func=f_classif, k='all')  # 'all' to get scores for all features\n",
        "k_best.fit(X_train, y_train)\n",
        "\n",
        "fisher_scores = k_best.scores_\n",
        "variable_names = X_train.columns\n",
        "\n",
        "fisher_scores_df = pd.DataFrame({'Feature': variable_names, 'Fisher Score': fisher_scores})\n",
        "fisher_scores_df = fisher_scores_df.sort_values(by='Fisher Score', ascending=False)\n",
        "print(fisher_scores_df)\n",
        "\n",
        "threshold =  500  # Fisher score below 500 are considered low scores, above 500 are considered high scores\n",
        "\n",
        "# Obtain indices of features above the threshold\n",
        "highFisher_indices = [i for i, score in enumerate(k_best.scores_) if score > threshold]\n",
        "\n",
        "# Obtain list of features with low Fisher score\n",
        "highFisher_variables = [variable_names[i] for i in highFisher_indices]\n",
        "imptFeatures=[]\n",
        "for feature in highFisher_variables:\n",
        "    imptFeatures.append(feature)\n",
        "\n",
        "print(len(variable_names))\n",
        "print(\"Important features: \")\n",
        "print(imptFeatures)\n",
        "print(len(imptFeatures))\n"
      ]
    },
    {
      "cell_type": "code",
      "execution_count": null,
      "metadata": {
        "id": "JYuXtxs8iqOo",
        "colab": {
          "base_uri": "https://localhost:8080/"
        },
        "outputId": "893114ab-fdf9-453f-d8f1-9b11bde2bcc1"
      },
      "outputs": [
        {
          "output_type": "stream",
          "name": "stdout",
          "text": [
            "                                Feature  Importance\n",
            "81              n_months_last_bought_gi    0.314716\n",
            "144                      is_class_1_2_0    0.077016\n",
            "145                      is_class_1_2_1    0.075671\n",
            "106                   cltsex_fix_Female    0.075018\n",
            "129                is_consent_to_mail_1    0.044882\n",
            "..                                  ...         ...\n",
            "178             prempaid_lh_d0adeb_0.00    0.000000\n",
            "179             prempaid_gi_a10d1b_0.00    0.000000\n",
            "180             prempaid_gi_29d435_0.00    0.000000\n",
            "181             prempaid_gi_856320_0.00    0.000000\n",
            "314  ctrycode_desc_Unknown Country Code    0.000000\n",
            "\n",
            "[315 rows x 2 columns]\n",
            "                             Feature  Importance\n",
            "81           n_months_last_bought_gi    0.314716\n",
            "144                   is_class_1_2_0    0.077016\n",
            "145                   is_class_1_2_1    0.075671\n",
            "106                cltsex_fix_Female    0.075018\n",
            "129             is_consent_to_mail_1    0.044882\n",
            "130            is_consent_to_email_0    0.038677\n",
            "107                  cltsex_fix_Male    0.031970\n",
            "283                   hh_size_est_>4    0.022811\n",
            "271                       f_retail_1    0.017877\n",
            "214               f_ever_bought_gi_0    0.015552\n",
            "279                    hh_size_est_1    0.014383\n",
            "281                    hh_size_est_3    0.013430\n",
            "285    annual_income_est_B.100K-200K    0.013084\n",
            "280                    hh_size_est_2    0.012235\n",
            "282                    hh_size_est_4    0.011515\n",
            "136                    is_valid_dm_0    0.010871\n",
            "2                            hh_size    0.009993\n",
            "284    annual_income_est_A.ABOVE200K    0.009429\n",
            "131            is_consent_to_email_1    0.008830\n",
            "1                             pop_20    0.007844\n",
            "140           is_housewife_retiree_0    0.007522\n",
            "288     annual_income_est_E.BELOW30K    0.007497\n",
            "215               f_ever_bought_gi_1    0.007097\n",
            "104                 no._years_joined    0.006867\n",
            "128             is_consent_to_mail_0    0.006370\n",
            "105                           cltage    0.006222\n",
            "287      annual_income_est_D.30K-60K    0.006181\n",
            "0                              hh_20    0.005869\n",
            "120                   flg_gi_claim_0    0.005858\n",
            "286     annual_income_est_C.60K-100K    0.005650\n",
            "3      n_months_last_bought_products    0.005195\n",
            "4                   tot_inforce_pols    0.004820\n",
            "242       f_ever_bought_grp_caa6ff_0    0.004725\n",
            "98   n_months_last_bought_grp_fe5fb8    0.004432\n",
            "252       f_ever_bought_grp_fe5fb8_0    0.004060\n",
            "39                  sumins_lh_f852af    0.003904\n",
            "78       n_months_last_bought_c4bda5    0.003855\n",
            "275                 stat_flag_ACTIVE    0.002879\n",
            "135              is_consent_to_sms_1    0.002841\n",
            "111     flg_is_borderline_standard_1    0.002576\n",
            "103      n_months_last_bought_32c74c    0.002552\n",
            "61                prempaid_lh_947b15    0.002539\n",
            "96   n_months_last_bought_grp_70e1dd    0.002246\n",
            "9                     ape_ltc_43b9d5    0.002239\n",
            "66                        ape_507c37    0.002177\n",
            "35                 sumins_grp_caa6ff    0.002003\n",
            "95    n_months_last_bought_lh_e22a6a    0.001990\n",
            "80       n_months_last_bought_507c37    0.001987\n",
            "137                    is_valid_dm_1    0.001773\n",
            "122                flg_is_proposal_0    0.001710\n",
            "['n_months_last_bought_gi', 'is_class_1_2_0', 'is_class_1_2_1', 'cltsex_fix_Female', 'is_consent_to_mail_1', 'is_consent_to_email_0', 'cltsex_fix_Male', 'hh_size_est_>4', 'f_retail_1', 'f_ever_bought_gi_0', 'hh_size_est_1', 'hh_size_est_3', 'annual_income_est_B.100K-200K', 'hh_size_est_2', 'hh_size_est_4', 'is_valid_dm_0', 'hh_size', 'annual_income_est_A.ABOVE200K', 'is_consent_to_email_1', 'pop_20', 'is_housewife_retiree_0', 'annual_income_est_E.BELOW30K', 'f_ever_bought_gi_1', 'no._years_joined', 'is_consent_to_mail_0', 'cltage', 'annual_income_est_D.30K-60K', 'hh_20', 'flg_gi_claim_0', 'annual_income_est_C.60K-100K', 'n_months_last_bought_products', 'tot_inforce_pols', 'f_ever_bought_grp_caa6ff_0', 'n_months_last_bought_grp_fe5fb8', 'f_ever_bought_grp_fe5fb8_0', 'sumins_lh_f852af', 'n_months_last_bought_c4bda5', 'stat_flag_ACTIVE', 'is_consent_to_sms_1', 'flg_is_borderline_standard_1', 'n_months_last_bought_32c74c', 'prempaid_lh_947b15', 'n_months_last_bought_grp_70e1dd', 'ape_ltc_43b9d5', 'ape_507c37', 'sumins_grp_caa6ff', 'n_months_last_bought_lh_e22a6a', 'n_months_last_bought_507c37', 'is_valid_dm_1', 'flg_is_proposal_0']\n"
          ]
        }
      ],
      "source": [
        "# Feature Selection using Decision Tree\n",
        "decision_tree_model = DecisionTreeClassifier(random_state=42)\n",
        "decision_tree_model.fit(X_train, y_train)\n",
        "feature_importances = decision_tree_model.feature_importances_\n",
        "\n",
        "# Sort features according to their importance\n",
        "importance_df = pd.DataFrame({'Feature': X_train.columns, 'Importance': feature_importances})\n",
        "importance_df = importance_df.sort_values(by='Importance', ascending=False)\n",
        "\n",
        "# Select the top 50 features\n",
        "top_features = importance_df.head(50)\n",
        "top_feature_names = top_features['Feature'].tolist()\n",
        "\n",
        "print(importance_df)\n",
        "print(top_features)\n",
        "print(top_feature_names)"
      ]
    },
    {
      "cell_type": "code",
      "execution_count": null,
      "metadata": {
        "id": "65XH4yFQl9Ns",
        "colab": {
          "base_uri": "https://localhost:8080/"
        },
        "outputId": "47de19cd-b72b-42db-c249-8607b5680fd7"
      },
      "outputs": [
        {
          "output_type": "stream",
          "name": "stdout",
          "text": [
            "84\n"
          ]
        }
      ],
      "source": [
        "# List of Important features\n",
        "\n",
        "# Convert the lists to sets\n",
        "impt_features_set = set(imptFeatures)\n",
        "top_features_set = set(top_feature_names)\n",
        "\n",
        "# Find the union of the importance features determined by Fisher Score and Decision Tree\n",
        "union_features = impt_features_set.union(top_features_set)\n",
        "selected_features = list(union_features)\n",
        "\n",
        "print(len(selected_features))\n"
      ]
    },
    {
      "cell_type": "code",
      "source": [
        "selected_features"
      ],
      "metadata": {
        "colab": {
          "base_uri": "https://localhost:8080/"
        },
        "id": "nW_-EsI1pdjG",
        "outputId": "c00c64ff-85f4-4e46-9ef3-a6b2e65229f5"
      },
      "execution_count": null,
      "outputs": [
        {
          "output_type": "execute_result",
          "data": {
            "text/plain": [
              "['sumins_507c37',\n",
              " 'cltage',\n",
              " 'is_sg_pr_0',\n",
              " 'is_valid_dm_1',\n",
              " 'hh_size_est_>4',\n",
              " 'f_ever_bought_grp_fe5fb8_0',\n",
              " 'annual_income_est_B.100K-200K',\n",
              " 'n_months_last_bought_grp_1581d7',\n",
              " 'f_ever_bought_grp_1581d7_0',\n",
              " 'n_months_last_bought_grp_fe5fb8',\n",
              " 'flg_latest_being_lapse_0',\n",
              " 'f_ever_bought_grp_94baec_1',\n",
              " 'f_retail_0',\n",
              " 'f_ever_bought_lh_e22a6a_0',\n",
              " 'sumins_grp_caa6ff',\n",
              " 'is_consent_to_email_0',\n",
              " 'n_months_last_bought_grp_70e1dd',\n",
              " 'hh_size_est_4',\n",
              " 'sumins_grp_70e1dd',\n",
              " 'is_consent_to_mail_1',\n",
              " 'n_months_last_bought_839f8a',\n",
              " 'annual_income_est_D.30K-60K',\n",
              " 'tot_inforce_pols',\n",
              " 'n_months_last_bought_lh_e22a6a',\n",
              " 'hh_size_est_3',\n",
              " 'f_ever_bought_e22a6a_0',\n",
              " 'hh_size',\n",
              " 'f_ever_bought_ltc_43b9d5_0',\n",
              " 'prempaid_839f8a',\n",
              " 'is_class_1_2_0',\n",
              " 'f_ever_bought_grp_caa6ff_0',\n",
              " 'n_months_last_bought_c4bda5',\n",
              " 'f_ever_bought_gi_1',\n",
              " 'cltsex_fix_Male',\n",
              " 'is_consent_to_call_1',\n",
              " 'n_months_last_bought_507c37',\n",
              " 'is_valid_email_1',\n",
              " 'is_consent_to_sms_1',\n",
              " 'f_ever_bought_grp_945b5a_0',\n",
              " 'flg_is_borderline_standard_1',\n",
              " 'f_ever_bought_lh_839f8a_0',\n",
              " 'f_ever_bought_gi_0',\n",
              " 'sumins_lh_f852af',\n",
              " 'is_consent_to_email_1',\n",
              " 'is_valid_dm_0',\n",
              " 'clttype_G',\n",
              " 'hh_size_est_2',\n",
              " 'no._years_joined',\n",
              " 'stat_flag_ACTIVE',\n",
              " 'is_consent_to_mail_0',\n",
              " 'n_months_last_bought_gi',\n",
              " 'annual_income_est_E.BELOW30K',\n",
              " 'cltsex_fix_Female',\n",
              " 'f_ever_bought_839f8a_0',\n",
              " 'f_elx_1',\n",
              " 'f_hold_839f8a_0',\n",
              " 'n_months_last_bought_32c74c',\n",
              " 'ape_507c37',\n",
              " 'n_months_last_bought_products',\n",
              " 'f_ever_bought_507c37_0',\n",
              " 'hh_20',\n",
              " 'f_ever_bought_grp_70e1dd_0',\n",
              " 'flg_is_proposal_0',\n",
              " 'is_housewife_retiree_0',\n",
              " 'n_months_last_bought_grp_caa6ff',\n",
              " 'f_hold_507c37_0',\n",
              " 'prempaid_lh_947b15',\n",
              " 'f_ever_bought_grp_6fc3e6_0',\n",
              " 'f_mindef_mha_0',\n",
              " 'is_class_1_2_1',\n",
              " 'f_ever_bought_lh_507c37_0',\n",
              " 'f_ever_bought_grp_fe5fb8_1',\n",
              " 'flg_gi_claim_0',\n",
              " 'clttype_P',\n",
              " 'is_valid_email_0',\n",
              " 'hh_size_est_1',\n",
              " 'f_retail_1',\n",
              " 'annual_income_est_C.60K-100K',\n",
              " 'ape_839f8a',\n",
              " 'annual_income_est_A.ABOVE200K',\n",
              " 'ape_ltc_43b9d5',\n",
              " 'pop_20',\n",
              " 'flg_substandard_0',\n",
              " 'f_mindef_mha_1']"
            ]
          },
          "metadata": {},
          "execution_count": 89
        }
      ]
    },
    {
      "cell_type": "code",
      "execution_count": null,
      "metadata": {
        "id": "Hkk4yJIppQo0"
      },
      "outputs": [],
      "source": [
        "# Manipulating the data to only include the selected features\n",
        "X_train_selected = X_train[selected_features]\n",
        "X_val_selected = X_val[selected_features]\n",
        "\n",
        "# So now, we are working with X_train_selected, y_train, X_val_selected, y_val"
      ]
    },
    {
      "cell_type": "markdown",
      "source": [
        "#Decision Tree"
      ],
      "metadata": {
        "id": "Hx0Eg0T_ih9h"
      }
    },
    {
      "cell_type": "code",
      "source": [
        "# set seed\n",
        "seed = 69\n",
        "X_train_selected, X_val_selected, y_train, y_val = train_test_split(X, y, test_size=0.2, random_state=seed)"
      ],
      "metadata": {
        "id": "N6xGNGbYRYXx"
      },
      "execution_count": null,
      "outputs": []
    },
    {
      "cell_type": "code",
      "source": [
        "# Decision Tree\n",
        "dt_clf = DecisionTreeClassifier()\n",
        "dt_clf.fit(X_train_selected, y_train)\n",
        "print(\"train accuracy: \", dt_clf.score(X_train_selected, y_train))\n",
        "print(\"val accuracy: \", dt_clf.score(X_val_selected, y_val))\n",
        "\n",
        "# Evaluate on validation set\n",
        "y_val_pred = dt_clf.predict(X_val_selected)\n",
        "print(classification_report(y_val, y_val_pred))\n",
        "\n",
        "# Code to generate visualisation of matrix\n",
        "cm = confusion_matrix(y_val, y_val_pred)\n",
        "disp = ConfusionMatrixDisplay(confusion_matrix=cm,) # set display_label according to dataset\n",
        "disp.plot(cmap='RdPu')"
      ],
      "metadata": {
        "id": "Qd0B3N95NA3q",
        "colab": {
          "base_uri": "https://localhost:8080/",
          "height": 657
        },
        "outputId": "14cce4a8-2133-4a4f-c237-9c544a80c907"
      },
      "execution_count": null,
      "outputs": [
        {
          "output_type": "stream",
          "name": "stdout",
          "text": [
            "train accuracy:  1.0\n",
            "val accuracy:  0.928053541550474\n",
            "              precision    recall  f1-score   support\n",
            "\n",
            "           0       0.97      0.96      0.96      3458\n",
            "           1       0.11      0.14      0.12       128\n",
            "\n",
            "    accuracy                           0.93      3586\n",
            "   macro avg       0.54      0.55      0.54      3586\n",
            "weighted avg       0.94      0.93      0.93      3586\n",
            "\n"
          ]
        },
        {
          "output_type": "execute_result",
          "data": {
            "text/plain": [
              "<sklearn.metrics._plot.confusion_matrix.ConfusionMatrixDisplay at 0x79c11ec186d0>"
            ]
          },
          "metadata": {},
          "execution_count": 92
        },
        {
          "output_type": "display_data",
          "data": {
            "text/plain": [
              "<Figure size 640x480 with 2 Axes>"
            ],
            "image/png": "[encoded data removed]"
          },
          "metadata": {}
        }
      ]
    },
    {
      "cell_type": "markdown",
      "source": [
        "#KNN"
      ],
      "metadata": {
        "id": "BzpIKqT3iqaC"
      }
    },
    {
      "cell_type": "code",
      "source": [
        "from sklearn.neighbors import KNeighborsClassifier\n",
        "\n",
        "knn_clf = KNeighborsClassifier(n_neighbors=5)\n",
        "knn_clf.fit(X_train_selected, y_train)\n",
        "print(\"train accuracy: \", knn_clf.score(X_train_selected, y_train))\n",
        "print(\"val accuracy: \", knn_clf.score(X_val_selected, y_val))\n",
        "\n",
        "# Evaluate on validation set\n",
        "y_val_pred = dt_clf.predict(X_val_selected)\n",
        "print(classification_report(y_val, y_val_pred))\n",
        "\n",
        "# Code to generate visualisation of matrix\n",
        "cm = confusion_matrix(y_val, y_val_pred)\n",
        "disp = ConfusionMatrixDisplay(confusion_matrix=cm) # set display_label according to dataset\n",
        "disp.plot(cmap='RdPu')"
      ],
      "metadata": {
        "id": "gJIxGHvYLWV9",
        "colab": {
          "base_uri": "https://localhost:8080/",
          "height": 657
        },
        "outputId": "86f0ee1c-ee3f-4066-868f-e6b1e534c1cb"
      },
      "execution_count": null,
      "outputs": [
        {
          "output_type": "stream",
          "name": "stdout",
          "text": [
            "train accuracy:  0.9609592861126603\n",
            "val accuracy:  0.9623535973229225\n",
            "              precision    recall  f1-score   support\n",
            "\n",
            "           0       0.97      0.96      0.96      3458\n",
            "           1       0.11      0.14      0.12       128\n",
            "\n",
            "    accuracy                           0.93      3586\n",
            "   macro avg       0.54      0.55      0.54      3586\n",
            "weighted avg       0.94      0.93      0.93      3586\n",
            "\n"
          ]
        },
        {
          "output_type": "execute_result",
          "data": {
            "text/plain": [
              "<sklearn.metrics._plot.confusion_matrix.ConfusionMatrixDisplay at 0x79c148da5720>"
            ]
          },
          "metadata": {},
          "execution_count": 93
        },
        {
          "output_type": "display_data",
          "data": {
            "text/plain": [
              "<Figure size 640x480 with 2 Axes>"
            ],
            "image/png": "[encoded data removed]"
          },
          "metadata": {}
        }
      ]
    },
    {
      "cell_type": "markdown",
      "source": [
        "#XGBoost with Cross Validation"
      ],
      "metadata": {
        "id": "84VpJvIzV9oY"
      }
    },
    {
      "cell_type": "code",
      "source": [
        "# Define XGBoost model\n",
        "xgb_model=xgb.XGBClassifier(n_estimators=1000, max_depth=6, learning_rate=0.01, subsample=0.8, colsample_bytree=0.8, object=\"binary: logistic\", random_state=42)\n",
        "\n",
        "# 5-fold cross-validation\n",
        "accuracies=cross_val_score(xgb_model, X, y, cv=5)\n",
        "\n",
        "print(\"Accuracy:\", np.mean(accuracies))\n"
      ],
      "metadata": {
        "id": "7bE1-Rq2XYIq",
        "colab": {
          "base_uri": "https://localhost:8080/"
        },
        "outputId": "c6eeeae5-e31f-488b-fc7c-32ba8d70f033"
      },
      "execution_count": null,
      "outputs": [
        {
          "output_type": "stream",
          "name": "stderr",
          "text": [
            "/usr/local/lib/python3.10/dist-packages/xgboost/core.py:160: UserWarning: [14:46:38] WARNING: /workspace/src/learner.cc:742: \n",
            "Parameters: { \"object\" } are not used.\n",
            "\n",
            "  warnings.warn(smsg, UserWarning)\n",
            "/usr/local/lib/python3.10/dist-packages/xgboost/core.py:160: UserWarning: [14:47:01] WARNING: /workspace/src/learner.cc:742: \n",
            "Parameters: { \"object\" } are not used.\n",
            "\n",
            "  warnings.warn(smsg, UserWarning)\n",
            "/usr/local/lib/python3.10/dist-packages/xgboost/core.py:160: UserWarning: [14:47:22] WARNING: /workspace/src/learner.cc:742: \n",
            "Parameters: { \"object\" } are not used.\n",
            "\n",
            "  warnings.warn(smsg, UserWarning)\n",
            "/usr/local/lib/python3.10/dist-packages/xgboost/core.py:160: UserWarning: [14:47:43] WARNING: /workspace/src/learner.cc:742: \n",
            "Parameters: { \"object\" } are not used.\n",
            "\n",
            "  warnings.warn(smsg, UserWarning)\n",
            "/usr/local/lib/python3.10/dist-packages/xgboost/core.py:160: UserWarning: [14:48:04] WARNING: /workspace/src/learner.cc:742: \n",
            "Parameters: { \"object\" } are not used.\n",
            "\n",
            "  warnings.warn(smsg, UserWarning)\n"
          ]
        },
        {
          "output_type": "stream",
          "name": "stdout",
          "text": [
            "Accuracy: 0.962409369771333\n"
          ]
        }
      ]
    },
    {
      "cell_type": "markdown",
      "source": [],
      "metadata": {
        "id": "R1f8NEKAcizF"
      }
    },
    {
      "cell_type": "code",
      "source": [
        "# Plot to display accuracies\n",
        "sb.scatterplot(accuracies, color=\"orange\")\n",
        "plt.xticks([0,1,2,3,4])\n",
        "plt.xlabel(\"Iteration number\")\n",
        "plt.ylabel(\"Accuracy\")\n",
        "plt.title(\"Cross-Validation Results\")"
      ],
      "metadata": {
        "id": "G8vrdL6pcmoI",
        "colab": {
          "base_uri": "https://localhost:8080/",
          "height": 489
        },
        "outputId": "fc60f6c9-5722-4d3c-bf39-17b5b8cf3687"
      },
      "execution_count": null,
      "outputs": [
        {
          "output_type": "execute_result",
          "data": {
            "text/plain": [
              "Text(0.5, 1.0, 'Cross-Validation Results')"
            ]
          },
          "metadata": {},
          "execution_count": 100
        },
        {
          "output_type": "display_data",
          "data": {
            "text/plain": [
              "<Figure size 640x480 with 1 Axes>"
            ],
            "image/png": "[encoded data removed]"
          },
          "metadata": {}
        }
      ]
    },
    {
      "cell_type": "code",
      "source": [
        "import pickle\n",
        "\n",
        "# Save model\n",
        "with open('xgb_model.pkl', 'wb') as f:\n",
        "  pickle.dump(xgb_model, f)"
      ],
      "metadata": {
        "id": "RGWFjrn6ds5_"
      },
      "execution_count": null,
      "outputs": []
    },
    {
      "cell_type": "markdown",
      "source": [
        "#Analysis"
      ],
      "metadata": {
        "id": "HXi1kD17ejyn"
      }
    },
    {
      "cell_type": "markdown",
      "source": [
        "XGB model performed the best in terms of accuracy. This is mainly because XGBoost is an ensemble method that can capture complex relationships in data. XGBoost is able to learn and generalize well to unseen data. Hence, we will use XGBoost to test the hidden data\n",
        "\n"
      ],
      "metadata": {
        "id": "1Q0PMBrah23N"
      }
    },
    {
      "cell_type": "markdown",
      "metadata": {
        "id": "w1dqEb2s06Uq"
      },
      "source": [
        "## The cell below is **NOT** to be removed\n",
        "##### The function is to be amended so that it accepts the given input (dataframe) and returns the required output (list).\n",
        "##### It is recommended to test the function out prior to submission\n",
        "-------------------------------------------------------------------------------------------------------------------------------\n",
        "##### The hidden_data parsed into the function below will have the same layout columns wise as the dataset *SENT* to you\n",
        "##### Thus, ensure that steps taken to modify the initial dataset to fit into the model are also carried out in the function below"
      ]
    },
    {
      "cell_type": "code",
      "source": [
        "final_features = ['sumins_507c37',\n",
        " 'cltage',\n",
        " 'is_sg_pr_0',\n",
        " 'is_valid_dm_1',\n",
        " 'hh_size_est_>4',\n",
        " 'f_ever_bought_grp_fe5fb8_0',\n",
        " 'annual_income_est_B.100K-200K',\n",
        " 'n_months_last_bought_grp_1581d7',\n",
        " 'f_ever_bought_grp_1581d7_0',\n",
        " 'n_months_last_bought_grp_fe5fb8',\n",
        " 'flg_latest_being_lapse_0',\n",
        " 'f_ever_bought_grp_94baec_1',\n",
        " 'f_retail_0',\n",
        " 'f_ever_bought_lh_e22a6a_0',\n",
        " 'sumins_grp_caa6ff',\n",
        " 'is_consent_to_email_0',\n",
        " 'n_months_last_bought_grp_70e1dd',\n",
        " 'hh_size_est_4',\n",
        " 'sumins_grp_70e1dd',\n",
        " 'is_consent_to_mail_1',\n",
        " 'n_months_last_bought_839f8a',\n",
        " 'annual_income_est_D.30K-60K',\n",
        " 'tot_inforce_pols',\n",
        " 'n_months_last_bought_lh_e22a6a',\n",
        " 'hh_size_est_3',\n",
        " 'f_ever_bought_e22a6a_0',\n",
        " 'hh_size',\n",
        " 'f_ever_bought_ltc_43b9d5_0',\n",
        " 'prempaid_839f8a',\n",
        " 'is_class_1_2_0',\n",
        " 'f_ever_bought_grp_caa6ff_0',\n",
        " 'n_months_last_bought_c4bda5',\n",
        " 'f_ever_bought_gi_1',\n",
        " 'cltsex_fix_Male',\n",
        " 'is_consent_to_call_1',\n",
        " 'n_months_last_bought_507c37',\n",
        " 'is_valid_email_1',\n",
        " 'is_consent_to_sms_1',\n",
        " 'f_ever_bought_grp_945b5a_0',\n",
        " 'flg_is_borderline_standard_1',\n",
        " 'f_ever_bought_lh_839f8a_0',\n",
        " 'f_ever_bought_gi_0',\n",
        " 'sumins_lh_f852af',\n",
        " 'is_consent_to_email_1',\n",
        " 'is_valid_dm_0',\n",
        " 'clttype_G',\n",
        " 'hh_size_est_2',\n",
        " 'no._years_joined',\n",
        " 'stat_flag_ACTIVE',\n",
        " 'is_consent_to_mail_0',\n",
        " 'n_months_last_bought_gi',\n",
        " 'annual_income_est_E.BELOW30K',\n",
        " 'cltsex_fix_Female',\n",
        " 'f_ever_bought_839f8a_0',\n",
        " 'f_elx_1',\n",
        " 'f_hold_839f8a_0',\n",
        " 'n_months_last_bought_32c74c',\n",
        " 'ape_507c37',\n",
        " 'n_months_last_bought_products',\n",
        " 'f_ever_bought_507c37_0',\n",
        " 'hh_20',\n",
        " 'f_ever_bought_grp_70e1dd_0',\n",
        " 'flg_is_proposal_0',\n",
        " 'is_housewife_retiree_0',\n",
        " 'n_months_last_bought_grp_caa6ff',\n",
        " 'f_hold_507c37_0',\n",
        " 'prempaid_lh_947b15',\n",
        " 'f_ever_bought_grp_6fc3e6_0',\n",
        " 'f_mindef_mha_0',\n",
        " 'is_class_1_2_1',\n",
        " 'f_ever_bought_lh_507c37_0',\n",
        " 'f_ever_bought_grp_fe5fb8_1',\n",
        " 'flg_gi_claim_0',\n",
        " 'clttype_P',\n",
        " 'is_valid_email_0',\n",
        " 'hh_size_est_1',\n",
        " 'f_retail_1',\n",
        " 'annual_income_est_C.60K-100K',\n",
        " 'ape_839f8a',\n",
        " 'annual_income_est_A.ABOVE200K',\n",
        " 'ape_ltc_43b9d5',\n",
        " 'pop_20',\n",
        " 'flg_substandard_0',\n",
        " 'f_mindef_mha_1']\n",
        "\n",
        "categorical_variables = ['cltsex_fix',\n",
        " 'is_dependent_in_at_least_1_policy',\n",
        " 'flg_latest_being_lapse',\n",
        " 'flg_latest_being_cancel',\n",
        " 'ape_gi_42e115',\n",
        " 'ape_ltc_1280bf',\n",
        " 'ape_inv_dcd836',\n",
        " 'ape_lh_d0adeb',\n",
        " 'ape_gi_a10d1b',\n",
        " 'ape_gi_29d435',\n",
        " 'ape_gi_856320',\n",
        " 'ape_gi_058815',\n",
        " 'ape_32c74c',\n",
        " 'sumins_gi_42e115',\n",
        " 'sumins_ltc_1280bf',\n",
        " 'sumins_inv_dcd836',\n",
        " 'sumins_lh_d0adeb',\n",
        " 'sumins_grp_22decf',\n",
        " 'sumins_gi_a10d1b',\n",
        " 'sumins_gi_29d435',\n",
        " 'sumins_lh_e22a6a',\n",
        " 'sumins_grp_e04c3a',\n",
        " 'sumins_grp_fe5fb8',\n",
        " 'sumins_gi_856320',\n",
        " 'sumins_grp_94baec',\n",
        " 'sumins_gi_058815',\n",
        " 'sumins_32c74c',\n",
        " 'prempaid_gi_42e115',\n",
        " 'prempaid_ltc_1280bf',\n",
        " 'prempaid_inv_dcd836',\n",
        " 'prempaid_lh_d0adeb',\n",
        " 'prempaid_gi_a10d1b',\n",
        " 'prempaid_gi_29d435',\n",
        " 'prempaid_gi_856320',\n",
        " 'prempaid_gi_058815',\n",
        " 'prempaid_32c74c',\n",
        " 'ape_d0adeb',\n",
        " 'ape_gi',\n",
        " 'f_hold_839f8a',\n",
        " 'f_hold_e22a6a',\n",
        " 'f_hold_d0adeb',\n",
        " 'f_hold_c4bda5',\n",
        " 'f_hold_ltc',\n",
        " 'f_hold_507c37',\n",
        " 'f_hold_gi',\n",
        " 'sumins_e22a6a',\n",
        " 'sumins_d0adeb',\n",
        " 'sumins_gi',\n",
        " 'prempaid_d0adeb',\n",
        " 'prempaid_gi',\n",
        " 'f_ever_bought_839f8a',\n",
        " 'f_ever_bought_e22a6a',\n",
        " 'f_ever_bought_d0adeb',\n",
        " 'f_ever_bought_c4bda5',\n",
        " 'f_ever_bought_ltc',\n",
        " 'f_ever_bought_507c37',\n",
        " 'f_ever_bought_gi',\n",
        " 'n_months_last_bought_d0adeb',\n",
        " 'f_ever_bought_ltc_1280bf',\n",
        " 'f_ever_bought_grp_6fc3e6',\n",
        " 'f_ever_bought_grp_de05ae',\n",
        " 'f_ever_bought_inv_dcd836',\n",
        " 'f_ever_bought_grp_945b5a',\n",
        " 'f_ever_bought_grp_6a5788',\n",
        " 'f_ever_bought_ltc_43b9d5',\n",
        " 'f_ever_bought_grp_9cdedf',\n",
        " 'f_ever_bought_lh_d0adeb',\n",
        " 'f_ever_bought_grp_1581d7',\n",
        " 'f_ever_bought_grp_22decf',\n",
        " 'f_ever_bought_lh_507c37',\n",
        " 'f_ever_bought_lh_839f8a',\n",
        " 'f_ever_bought_inv_e9f316',\n",
        " 'f_ever_bought_grp_caa6ff',\n",
        " 'f_ever_bought_grp_fd3bfb',\n",
        " 'f_ever_bought_lh_e22a6a',\n",
        " 'f_ever_bought_grp_70e1dd',\n",
        " 'f_ever_bought_grp_e04c3a',\n",
        " 'f_ever_bought_grp_fe5fb8',\n",
        " 'f_ever_bought_grp_94baec',\n",
        " 'f_ever_bought_grp_e91421',\n",
        " 'f_ever_bought_lh_f852af',\n",
        " 'f_ever_bought_lh_947b15',\n",
        " 'f_ever_bought_32c74c',\n",
        " 'n_months_last_bought_ltc_1280bf',\n",
        " 'n_months_last_bought_inv_dcd836',\n",
        " 'n_months_last_bought_lh_d0adeb',\n",
        " 'f_elx',\n",
        " 'f_mindef_mha',\n",
        " 'f_retail',\n",
        " 'clttype',\n",
        " 'stat_flag',\n",
        " 'hh_size_est',\n",
        " 'annual_income_est',\n",
        " 'ctrycode_desc']\n",
        "\n",
        "numerical_variables= ['min_occ_date',\n",
        " 'cltdob_fix',\n",
        " 'hh_20',\n",
        " 'pop_20',\n",
        " 'hh_size',\n",
        " 'n_months_last_bought_products',\n",
        " 'tot_inforce_pols',\n",
        " 'ape_grp_6fc3e6',\n",
        " 'ape_grp_945b5a',\n",
        " 'ape_grp_6a5788',\n",
        " 'ape_ltc_43b9d5',\n",
        " 'ape_grp_9cdedf',\n",
        " 'ape_grp_1581d7',\n",
        " 'ape_grp_22decf',\n",
        " 'ape_lh_507c37',\n",
        " 'ape_lh_839f8a',\n",
        " 'ape_inv_e9f316',\n",
        " 'ape_grp_caa6ff',\n",
        " 'ape_grp_fd3bfb',\n",
        " 'ape_lh_e22a6a',\n",
        " 'ape_grp_70e1dd',\n",
        " 'ape_grp_e04c3a',\n",
        " 'ape_grp_fe5fb8',\n",
        " 'ape_grp_94baec',\n",
        " 'ape_grp_e91421',\n",
        " 'ape_lh_f852af',\n",
        " 'ape_lh_947b15',\n",
        " 'sumins_grp_6fc3e6',\n",
        " 'sumins_grp_945b5a',\n",
        " 'sumins_grp_6a5788',\n",
        " 'sumins_ltc_43b9d5',\n",
        " 'sumins_grp_9cdedf',\n",
        " 'sumins_grp_1581d7',\n",
        " 'sumins_lh_507c37',\n",
        " 'sumins_inv_e9f316',\n",
        " 'sumins_grp_caa6ff',\n",
        " 'sumins_grp_fd3bfb',\n",
        " 'sumins_grp_70e1dd',\n",
        " 'sumins_grp_e91421',\n",
        " 'sumins_lh_f852af',\n",
        " 'sumins_lh_947b15',\n",
        " 'prempaid_grp_6fc3e6',\n",
        " 'prempaid_grp_945b5a',\n",
        " 'prempaid_grp_6a5788',\n",
        " 'prempaid_ltc_43b9d5',\n",
        " 'prempaid_grp_9cdedf',\n",
        " 'prempaid_grp_1581d7',\n",
        " 'prempaid_grp_22decf',\n",
        " 'prempaid_lh_507c37',\n",
        " 'prempaid_lh_839f8a',\n",
        " 'prempaid_inv_e9f316',\n",
        " 'prempaid_grp_caa6ff',\n",
        " 'prempaid_grp_fd3bfb',\n",
        " 'prempaid_lh_e22a6a',\n",
        " 'prempaid_grp_70e1dd',\n",
        " 'prempaid_grp_e04c3a',\n",
        " 'prempaid_grp_fe5fb8',\n",
        " 'prempaid_grp_94baec',\n",
        " 'prempaid_grp_e91421',\n",
        " 'prempaid_lh_f852af',\n",
        " 'prempaid_lh_947b15',\n",
        " 'ape_839f8a',\n",
        " 'ape_e22a6a',\n",
        " 'ape_c4bda5',\n",
        " 'ape_ltc',\n",
        " 'ape_507c37',\n",
        " 'sumins_839f8a',\n",
        " 'sumins_c4bda5',\n",
        " 'sumins_ltc',\n",
        " 'sumins_507c37',\n",
        " 'prempaid_839f8a',\n",
        " 'prempaid_e22a6a',\n",
        " 'prempaid_c4bda5',\n",
        " 'prempaid_ltc',\n",
        " 'prempaid_507c37',\n",
        " 'n_months_last_bought_839f8a',\n",
        " 'n_months_last_bought_e22a6a',\n",
        " 'n_months_last_bought_c4bda5',\n",
        " 'n_months_last_bought_ltc',\n",
        " 'n_months_last_bought_507c37',\n",
        " 'n_months_last_bought_gi',\n",
        " 'n_months_last_bought_grp_6fc3e6',\n",
        " 'n_months_last_bought_grp_de05ae',\n",
        " 'n_months_last_bought_grp_945b5a',\n",
        " 'n_months_last_bought_grp_6a5788',\n",
        " 'n_months_last_bought_ltc_43b9d5',\n",
        " 'n_months_last_bought_grp_9cdedf',\n",
        " 'n_months_last_bought_grp_1581d7',\n",
        " 'n_months_last_bought_grp_22decf',\n",
        " 'n_months_last_bought_lh_507c37',\n",
        " 'n_months_last_bought_lh_839f8a',\n",
        " 'n_months_last_bought_inv_e9f316',\n",
        " 'n_months_last_bought_grp_caa6ff',\n",
        " 'n_months_last_bought_grp_fd3bfb',\n",
        " 'n_months_last_bought_lh_e22a6a',\n",
        " 'n_months_last_bought_grp_70e1dd',\n",
        " 'n_months_last_bought_grp_e04c3a',\n",
        " 'n_months_last_bought_grp_fe5fb8',\n",
        " 'n_months_last_bought_grp_94baec',\n",
        " 'n_months_last_bought_grp_e91421',\n",
        " 'n_months_last_bought_lh_f852af',\n",
        " 'n_months_last_bought_lh_947b15',\n",
        " 'n_months_last_bought_32c74c',\n",
        " 'ape_grp_de05ae',\n",
        " 'sumins_grp_de05ae',\n",
        " 'prempaid_grp_de05ae']"
      ],
      "metadata": {
        "id": "rDnZ4Sq4FQnb"
      },
      "execution_count": null,
      "outputs": []
    },
    {
      "cell_type": "code",
      "source": [
        "def clean_data(df):\n",
        "  # Checking for NA values\n",
        "  toImpute_columns = []\n",
        "  canInterpolate=[]\n",
        "  knn_imputer = KNNImputer(n_neighbors=5)\n",
        "\n",
        "  missingValues = df.isna().sum()\n",
        "  for variableName, count in missingValues.items():\n",
        "      if count > 0:\n",
        "        toImpute_columns.append(variableName)\n",
        "\n",
        "  # Conversion of flag variables to categorical values\n",
        "  for col in toImpute_columns:\n",
        "\n",
        "      if col in categorical_variables:\n",
        "        df[col] = df[col].astype('category') #Convert to categorical values (0,1,-1) where -1 are NA\n",
        "        df[col] = df[col].fillna(df[col].mode()[0])\n",
        "\n",
        "      else:\n",
        "        canInterpolate.append(col)\n",
        "        df[col] = df[col].astype(float)\n",
        "\n",
        "  df[canInterpolate] = knn_imputer.fit_transform(df[canInterpolate])\n",
        "  df_encoded = pd.get_dummies(df, columns = categorical_variables)\n",
        "  df_selected = df_encoded[final_features]\n",
        "\n",
        "  return df_selected\n"
      ],
      "metadata": {
        "id": "29gaIv53mLeH"
      },
      "execution_count": null,
      "outputs": []
    },
    {
      "cell_type": "code",
      "execution_count": null,
      "metadata": {
        "id": "TvP3Bpt106Uq"
      },
      "outputs": [],
      "source": [
        "def testing_hidden_data(hidden_data: pd.DataFrame) -> list:\n",
        "  X = clean_data(hidden_data)\n",
        "  y_pred=xgb_model.predict(X)\n",
        "  result = list(y_pred)\n",
        "\n",
        "  return result\n",
        "\n",
        "  '''DO NOT REMOVE THIS FUNCTION.\n",
        "\n",
        "  The function accepts a dataframe as input and return an iterable (list)\n",
        "  of binary classes as output.\n",
        "\n",
        "  The function should be coded to test on hidden data\n",
        "  and should include any preprocessing functions needed for your model to perform.\n",
        "\n",
        "  All relevant code MUST be included in this function.'''\n"
      ]
    },
    {
      "cell_type": "markdown",
      "metadata": {
        "id": "mUMC2H_506Ur"
      },
      "source": [
        "##### Cell to check testing_hidden_data function"
      ]
    },
    {
      "cell_type": "code",
      "execution_count": null,
      "metadata": {
        "id": "_-HuH_Dh06Ur"
      },
      "outputs": [],
      "source": [
        "# This cell should output a list of predictions.\n",
        "test_df = pd.read_parquet(filepath)\n",
        "test_df = test_df.drop(columns=[\"f_purchase_lh\"])\n",
        "print(testing_hidden_data(test_df))"
      ]
    },
    {
      "cell_type": "markdown",
      "metadata": {
        "id": "LdeKo-Jy06Ur"
      },
      "source": [
        "### Please have the filename renamed and ensure that it can be run with the requirements above being met. All the best!"
      ]
    }
  ],
  "metadata": {
    "colab": {
      "provenance": []
    },
    "kernelspec": {
      "display_name": "Python 3 (ipykernel)",
      "language": "python",
      "name": "python3"
    },
    "language_info": {
      "codemirror_mode": {
        "name": "ipython",
        "version": 3
      },
      "file_extension": ".py",
      "mimetype": "text/x-python",
      "name": "python",
      "nbconvert_exporter": "python",
      "pygments_lexer": "ipython3",
      "version": "3.9.12"
    }
  },
  "nbformat": 4,
  "nbformat_minor": 0
}